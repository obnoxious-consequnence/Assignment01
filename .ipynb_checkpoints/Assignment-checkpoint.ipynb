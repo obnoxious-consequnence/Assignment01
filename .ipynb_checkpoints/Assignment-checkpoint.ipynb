{
 "cells": [
  {
   "cell_type": "markdown",
   "metadata": {},
   "source": [
    "# Assignment 2: CLI, Openpyxl and modules\n",
    "\n",
    "This assignment will make you work with files, command-line and objects. \n",
    "\n",
    "* To execute the code in this notebook, simply go to MyBinder in your browser:\n",
    "  * [![Binder](https://mybinder.org/badge_logo.svg)](insert link)\n",
    "  (insert link)"
   ]
  },
  {
   "cell_type": "markdown",
   "metadata": {},
   "source": [
    "## Part 1: Download Script"
   ]
  },
  {
   "cell_type": "code",
   "execution_count": null,
   "metadata": {},
   "outputs": [],
   "source": [
    "import webget\n",
    "\n",
    "urls = [\n",
    "    'http://www.gutenberg.org/files/2701/2701-0.txt', \n",
    "    'http://www.gutenberg.org/cache/epub/27525/pg27525.txt'\n",
    "]\n",
    "\n",
    "webget.download(urls)"
   ]
  },
  {
   "cell_type": "markdown",
   "metadata": {},
   "source": [
    "### Doing it in CLI\n",
    "\n",
    "Alternativly you can execute `download_script.py` in your terminal... This however dosn't save the files in a folder like the one above!\n",
    "\n",
    "  ```bash\n",
    "  $ python download_script.py http://www.gutenberg.org/files/2701/2701-0.txt http://www.gutenberg.org/cache/epub/27525/pg27525.txt\n",
    "  ```\n",
    "  \n",
    "  You're more then welcome to test it with multiple different urls :)\n",
    "  "
   ]
  },
  {
   "cell_type": "markdown",
   "metadata": {},
   "source": [
    "## Part 2: Reading .xlsx files"
   ]
  },
  {
   "cell_type": "code",
   "execution_count": 11,
   "metadata": {},
   "outputs": [
    {
     "name": "stderr",
     "output_type": "stream",
     "text": [
      "C:\\Users\\lunds\\Anaconda3\\lib\\site-packages\\ipykernel_launcher.py:7: DeprecationWarning: Call to deprecated function get_sheet_by_name (Use wb[sheetname]).\n",
      "  import sys\n"
     ]
    }
   ],
   "source": [
    "import openpyxl\n",
    "import csv\n",
    "\n",
    "filename = './iris_data.xlsx'\n",
    "wb = openpyxl.load_workbook(filename)\n",
    "\n",
    "sheet = wb.get_sheet_by_name(\"Fisher's Iris Data\")\n",
    "\n",
    "with open('irish.csv', 'w') as output_file:\n",
    "    output_writer = csv.writer(output_file, delimiter='\\t', quotechar='|')\n",
    "    for rowOfCellObjects in sheet['A1':'E151']:\n",
    "        for cellObj in rowOfCellObjects:\n",
    "            output_writer.writerow([cellObj.coordinate, cellObj.value])\n",
    "        #output_writer.writerow(['---------'])"
   ]
  },
  {
   "cell_type": "markdown",
   "metadata": {},
   "source": [
    "When running the cell above it will create a new file in the workfolder called irish.csv, which contains data from the excel document"
   ]
  },
  {
   "cell_type": "markdown",
   "metadata": {},
   "source": [
    "### Part 2.1: Unit Test"
   ]
  },
  {
   "cell_type": "code",
   "execution_count": 10,
   "metadata": {},
   "outputs": [
    {
     "ename": "NameError",
     "evalue": "name 'irish_data' is not defined",
     "output_type": "error",
     "traceback": [
      "\u001b[1;31m---------------------------------------------------------------------------\u001b[0m",
      "\u001b[1;31mNameError\u001b[0m                                 Traceback (most recent call last)",
      "\u001b[1;32m<ipython-input-10-862ff9e0e6f9>\u001b[0m in \u001b[0;36m<module>\u001b[1;34m\u001b[0m\n\u001b[0;32m      7\u001b[0m     \u001b[0mdata\u001b[0m\u001b[1;33m.\u001b[0m\u001b[0mappend\u001b[0m\u001b[1;33m(\u001b[0m\u001b[0mrow\u001b[0m\u001b[1;33m)\u001b[0m\u001b[1;33m\u001b[0m\u001b[1;33m\u001b[0m\u001b[0m\n\u001b[0;32m      8\u001b[0m \u001b[1;33m\u001b[0m\u001b[0m\n\u001b[1;32m----> 9\u001b[1;33m \u001b[1;32massert\u001b[0m \u001b[0mirish_data\u001b[0m\u001b[1;33m.\u001b[0m\u001b[0mxlsx\u001b[0m\u001b[1;33m[\u001b[0m\u001b[0mrow\u001b[0m\u001b[1;33m[\u001b[0m\u001b[1;36m0\u001b[0m\u001b[1;33m]\u001b[0m\u001b[1;33m]\u001b[0m\u001b[1;33m[\u001b[0m\u001b[0mrow\u001b[0m\u001b[1;33m[\u001b[0m\u001b[1;36m1\u001b[0m\u001b[1;33m]\u001b[0m\u001b[1;33m]\u001b[0m\u001b[1;33m[\u001b[0m\u001b[0mrow\u001b[0m\u001b[1;33m[\u001b[0m\u001b[1;36m2\u001b[0m\u001b[1;33m]\u001b[0m\u001b[1;33m]\u001b[0m\u001b[1;33m[\u001b[0m\u001b[0mrow\u001b[0m\u001b[1;33m[\u001b[0m\u001b[1;36m3\u001b[0m\u001b[1;33m]\u001b[0m\u001b[1;33m]\u001b[0m \u001b[1;33m==\u001b[0m \u001b[1;33m[\u001b[0m\u001b[0mrow\u001b[0m\u001b[1;33m[\u001b[0m\u001b[1;36m4\u001b[0m\u001b[1;33m]\u001b[0m\u001b[1;33m]\u001b[0m\u001b[1;33m\u001b[0m\u001b[1;33m\u001b[0m\u001b[0m\n\u001b[0m",
      "\u001b[1;31mNameError\u001b[0m: name 'irish_data' is not defined"
     ]
    }
   ],
   "source": [
    "f = './irish.csv'\n",
    "\n",
    "reader = csv.reader(f)\n",
    "header_row = next(reader)\n",
    "data = []\n",
    "for row in reader:\n",
    "    data.append(row)\n",
    "\n",
    "assert irish_data.xlsx[row[0]][row[1]][row[2]][row[3]] == [row[4]]"
   ]
  },
  {
   "cell_type": "markdown",
   "metadata": {},
   "source": [
    "## Part 3: Creating a module with data\n"
   ]
  },
  {
   "cell_type": "code",
   "execution_count": null,
   "metadata": {},
   "outputs": [],
   "source": [
    "import webget\n",
    "\n",
    "url = ['http://data.kk.dk/dataset/76ecf368-bf2d-46a2-bcf8-adaf37662528/resource/9286af17-f74e-46c9-a428-9fb707542189/download/befkbhalderstatkode.csv'] \n",
    "\n",
    "webget.download(url)"
   ]
  },
  {
   "cell_type": "code",
   "execution_count": null,
   "metadata": {},
   "outputs": [],
   "source": [
    "import csv\n",
    "import pprint\n",
    "\n",
    "file = './befkbhalderstatkode.csv'\n",
    "\n",
    "def csvToDir():\n",
    "    reader = csv.DictReader(open(file))\n",
    "    for row in reader:\n",
    "        return row\n",
    "pprint.pprint(csvToDir())"
   ]
  },
  {
   "cell_type": "code",
   "execution_count": null,
   "metadata": {},
   "outputs": [],
   "source": [
    "import csv\n",
    "\n",
    "class AutoVivification(dict):\n",
    "    \"\"\"Implementation of perl's autovivification feature.\"\"\"\n",
    "    def __getitem__(self, item):\n",
    "        try:\n",
    "            return dict.__getitem__(self, item)\n",
    "        except KeyError:\n",
    "            value = self[item] = type(self)()\n",
    "            return value\n",
    "def main():\n",
    "    d = AutoVivification()\n",
    "    filename = './befkbhalderstatkode.csv'\n",
    "    with open(filename, 'r') as f:\n",
    "        reader = csv.reader(f, delimiter=',')\n",
    "        next(reader)        # skip the header\n",
    "        for row in reader:\n",
    "            d[row[0]][row[1]][row[2]][row[3]] = row[4]\n",
    "\n",
    "    pprint.pprint(d)\n",
    "main()"
   ]
  },
  {
   "cell_type": "markdown",
   "metadata": {},
   "source": [
    "### Issues\n",
    "This does not exactly look like the intended result, however we do categorize the data... Some feedback here would be nice! :)"
   ]
  }
 ],
 "metadata": {
  "kernelspec": {
   "display_name": "Python 3",
   "language": "python",
   "name": "python3"
  },
  "language_info": {
   "codemirror_mode": {
    "name": "ipython",
    "version": 3
   },
   "file_extension": ".py",
   "mimetype": "text/x-python",
   "name": "python",
   "nbconvert_exporter": "python",
   "pygments_lexer": "ipython3",
   "version": "3.7.1"
  }
 },
 "nbformat": 4,
 "nbformat_minor": 2
}
