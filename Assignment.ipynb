{
 "cells": [
  {
   "cell_type": "markdown",
   "metadata": {},
   "source": [
    "# Assignment 2: CLI, Openpyxl and modules\n",
    "\n",
    "This assignment will make you work with files, command-line and objects. \n",
    "\n",
    "* To execute the code in this notebook, simply go to MyBinder in your browser:\n",
    "  * [![Binder](https://mybinder.org/badge_logo.svg)](https://mybinder.org/v2/gh/obnoxious-consequnence/Assignment01/master)\n",
    "  (https://mybinder.org/v2/gh/obnoxious-consequnence/Assignment01/master)"
   ]
  },
  {
   "cell_type": "markdown",
   "metadata": {},
   "source": [
    "## Part 1: Download Script"
   ]
  },
  {
   "cell_type": "code",
   "execution_count": null,
   "metadata": {},
   "outputs": [],
   "source": [
    "import webget\n",
    "\n",
    "urls = [\n",
    "    'http://www.gutenberg.org/files/2701/2701-0.txt', \n",
    "    'http://www.gutenberg.org/cache/epub/27525/pg27525.txt'\n",
    "]\n",
    "\n",
    "webget.download(urls)"
   ]
  },
  {
   "cell_type": "markdown",
   "metadata": {},
   "source": [
    "### Doing it in CLI\n",
    "\n",
    "Alternativly you can execute `download_script.py` in your terminal... This however dosn't save the files in a folder like the one above!\n",
    "\n",
    "  ```bash\n",
    "  $ python download_script.py http://www.gutenberg.org/files/2701/2701-0.txt http://www.gutenberg.org/cache/epub/27525/pg27525.txt\n",
    "  ```\n",
    "  \n",
    "  You're more then welcome to test it with multiple different urls :)\n",
    "  "
   ]
  },
  {
   "cell_type": "markdown",
   "metadata": {},
   "source": [
    "## Part 2: Reading .xlsx files"
   ]
  },
  {
   "cell_type": "code",
   "execution_count": null,
   "metadata": {},
   "outputs": [],
   "source": [
    "import openpyxl\n",
    "import csv\n",
    "\n",
    "filename = './iris_data.xlsx'\n",
    "wb = openpyxl.load_workbook(filename)\n",
    "\n",
    "sheet = wb.get_sheet_by_name(\"Fisher's Iris Data\")\n",
    "\n",
    "with open('irish.csv', 'w') as output_file:\n",
    "    output_writer = csv.writer(output_file, delimiter='\\t', quotechar='|')\n",
    "    for rowOfCellObjects in sheet['A1':'E151']:\n",
    "        for cellObj in rowOfCellObjects:\n",
    "            output_writer.writerow([cellObj.coordinate, cellObj.value])\n",
    "        #output_writer.writerow(['---------'])"
   ]
  },
  {
   "cell_type": "markdown",
   "metadata": {},
   "source": [
    "When running the cell above it will create a new file in the workfolder called irish.csv, which contains data from the excel document"
   ]
  },
  {
   "cell_type": "markdown",
   "metadata": {},
   "source": [
    "### Part 2.1: Unit Test"
   ]
  },
  {
   "cell_type": "markdown",
   "metadata": {},
   "source": [
    "### Issues\n",
    "\n",
    "We're abit confused how we're supposed to compare a xlsx and csv file"
   ]
  },
  {
   "cell_type": "markdown",
   "metadata": {},
   "source": [
    "## Part 3: Creating a module with data\n"
   ]
  },
  {
   "cell_type": "code",
   "execution_count": null,
   "metadata": {},
   "outputs": [],
   "source": [
    "import webget\n",
    "\n",
    "url = ['http://data.kk.dk/dataset/76ecf368-bf2d-46a2-bcf8-adaf37662528/resource/9286af17-f74e-46c9-a428-9fb707542189/download/befkbhalderstatkode.csv'] \n",
    "\n",
    "webget.download(url)"
   ]
  },
  {
   "cell_type": "code",
   "execution_count": null,
   "metadata": {},
   "outputs": [],
   "source": [
    "import csv\n",
    "import pprint\n",
    "\n",
    "file = './befkbhalderstatkode.csv'\n",
    "\n",
    "def csvToDir():\n",
    "    reader = csv.DictReader(open(file))\n",
    "    for row in reader:\n",
    "        return row\n",
    "pprint.pprint(csvToDir())"
   ]
  },
  {
   "cell_type": "code",
   "execution_count": null,
   "metadata": {},
   "outputs": [],
   "source": [
    "import csv\n",
    "\n",
    "class AutoVivification(dict):\n",
    "    \"\"\"Implementation of perl's autovivification feature.\"\"\"\n",
    "    def __getitem__(self, item):\n",
    "        try:\n",
    "            return dict.__getitem__(self, item)\n",
    "        except KeyError:\n",
    "            value = self[item] = type(self)()\n",
    "            return value\n",
    "def main():\n",
    "    d = AutoVivification()\n",
    "    filename = './befkbhalderstatkode.csv'\n",
    "    with open(filename, 'r') as f:\n",
    "        reader = csv.reader(f, delimiter=',')\n",
    "        next(reader)        # skip the header\n",
    "        for row in reader:\n",
    "            d[row[0]][row[1]][row[2]][row[3]] = row[4]\n",
    "\n",
    "    pprint.pprint(d)\n",
    "main()"
   ]
  },
  {
   "cell_type": "markdown",
   "metadata": {},
   "source": [
    "### Issues\n",
    "This does not exactly look like the intended result, however we do categorize the data... Some feedback here would be nice! :)"
   ]
  }
 ],
 "metadata": {
  "kernelspec": {
   "display_name": "Python 3",
   "language": "python",
   "name": "python3"
  },
  "language_info": {
   "codemirror_mode": {
    "name": "ipython",
    "version": 3
   },
   "file_extension": ".py",
   "mimetype": "text/x-python",
   "name": "python",
   "nbconvert_exporter": "python",
   "pygments_lexer": "ipython3",
   "version": "3.7.1"
  }
 },
 "nbformat": 4,
 "nbformat_minor": 2
}
